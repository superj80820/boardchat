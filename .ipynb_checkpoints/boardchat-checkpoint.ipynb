{
 "cells": [
  {
   "cell_type": "code",
   "execution_count": 1,
   "metadata": {},
   "outputs": [],
   "source": [
    "import random\n",
    "import sqlite3 as sqlite\n",
    "from flask import Flask, request, abort\n",
    "\n",
    "from linebot import (\n",
    "    LineBotApi, WebhookHandler\n",
    ")\n",
    "from linebot.exceptions import (\n",
    "    InvalidSignatureError\n",
    ")\n",
    "from linebot.models import (\n",
    "    MessageEvent, TextMessage, TextSendMessage,\n",
    ")\n",
    "\n",
    "app = Flask(__name__)\n",
    "\n",
    "line_bot_api = LineBotApi('ai1iuZRwsnNXq0c351M2hRHF/WCgp1d8vVRo758C4Pf4zFdUlc9niSEU/RaSnMm6c236XIItMn06tjMEs8G/ZIE7NrQnl8brQxWlwC6erjgTiTq2DbXn5PEtrnZwehMN8CP4uRjdUKuBIO7KHJf+rgdB04t89/1O/w1cDnyilFU=')\n",
    "handler = WebhookHandler('1ca71e0fc847d319ce3e2b8497de7baf')\n",
    "\n"
   ]
  },
  {
   "cell_type": "code",
   "execution_count": null,
   "metadata": {},
   "outputs": [
    {
     "name": "stderr",
     "output_type": "stream",
     "text": [
      " * Running on http://127.0.0.1:5000/ (Press CTRL+C to quit)\n",
      "127.0.0.1 - - [06/Aug/2018 01:32:27] \"POST /callback HTTP/1.1\" 200 -\n"
     ]
    },
    {
     "name": "stdout",
     "output_type": "stream",
     "text": [
      "以創建C12057029888574587e0746aff6d6e9de\n"
     ]
    },
    {
     "name": "stderr",
     "output_type": "stream",
     "text": [
      "127.0.0.1 - - [06/Aug/2018 01:32:39] \"POST /callback HTTP/1.1\" 200 -\n",
      "127.0.0.1 - - [06/Aug/2018 01:32:40] \"POST /callback HTTP/1.1\" 200 -\n",
      "127.0.0.1 - - [06/Aug/2018 01:32:52] \"POST /callback HTTP/1.1\" 200 -\n"
     ]
    },
    {
     "name": "stdout",
     "output_type": "stream",
     "text": [
      "C12057029888574587e0746aff6d6e9de\n",
      "[('U741a582b1679a0feb05d7ac2d6fe2b14',)]\n"
     ]
    },
    {
     "name": "stderr",
     "output_type": "stream",
     "text": [
      "127.0.0.1 - - [06/Aug/2018 01:33:00] \"POST /callback HTTP/1.1\" 200 -\n"
     ]
    }
   ],
   "source": [
    "@app.route(\"/callback\", methods=['POST'])\n",
    "def callback():\n",
    "    # get X-Line-Signature header value\n",
    "    signature = request.headers['X-Line-Signature']\n",
    "\n",
    "    # get request body as text\n",
    "    body = request.get_data(as_text=True)\n",
    "    app.logger.info(\"Request body: \" + body)\n",
    "\n",
    "    # handle webhook body\n",
    "    try:\n",
    "        handler.handle(body, signature)\n",
    "    except InvalidSignatureError:\n",
    "        abort(400)\n",
    "\n",
    "    return 'OK'\n",
    "\n",
    "\n",
    "@handler.add(MessageEvent, message=TextMessage)\n",
    "def handle_message(event):\n",
    "        \n",
    "    if event.message.text=='桌遊啦':\n",
    "        conn = sqlite.connect('class.db')\n",
    "        c = conn.cursor()\n",
    "        c.execute('CREATE TABLE '+event.source.group_id+' (menber text UNIQUE,acter text UNIQUE)')\n",
    "        conn.commit()\n",
    "        conn.close()\n",
    "        print('以創建'+event.source.group_id)\n",
    "    elif event.message.text=='+1':\n",
    "        conn = sqlite.connect('class.db')\n",
    "        c = conn.cursor()\n",
    "        c.execute(\"INSERT INTO \"+event.source.group_id+\"(menber) VALUES ('\"+event.source.user_id+\"')\")\n",
    "        conn.commit()\n",
    "        conn.close()\n",
    "        line_bot_api.reply_message(\n",
    "                event.reply_token,\n",
    "                TextSendMessage(text='已加入~'))\n",
    "    elif event.message.text=='開始':\n",
    "        conn = sqlite.connect('class.db')  \n",
    "        c = conn.cursor()  \n",
    "        menbers=list(c.execute(\"SELECT menber FROM \"+event.source.group_id))\n",
    "        conn.close()\n",
    "        \n",
    "        select=random.randint(0,len(menbers)-1)\n",
    "        spy=menbers[select]\n",
    "        menbers.remove(spy)\n",
    "        spy=spy[0]\n",
    "        print(event.source.group_id)\n",
    "        line_bot_api.push_message(spy, TextSendMessage(text='你是spy'))\n",
    "        \n",
    "        user_id=\"'%s'\"%event.source.user_id\n",
    "        conn = sqlite.connect('class.db')\n",
    "        c = conn.cursor()\n",
    "        c.execute(\"UPDATE %s SET acter = 'spy' WHERE menber = %s\"%(event.source.group_id,user_id))\n",
    "        conn.commit()\n",
    "        conn.close()\n",
    "        \n",
    "        print(menbers)\n",
    "        for item in menbers:\n",
    "            line_bot_api.push_message(item[0], TextSendMessage(text='你是警察'))\n",
    "            \n",
    "            user_id=\"'%s'\"%item[0]\n",
    "            conn = sqlite.connect('class.db')\n",
    "            c = conn.cursor()\n",
    "            c.execute(\"UPDATE %s SET acter = 'cup' WHERE menber = %s\"%(event.source.group_id,user_id))\n",
    "            conn.commit()\n",
    "            conn.close()\n",
    "        \n",
    "\n",
    "if __name__ == \"__main__\":\n",
    "    app.run()"
   ]
  },
  {
   "cell_type": "code",
   "execution_count": 47,
   "metadata": {},
   "outputs": [],
   "source": [
    "menbers=['ss','dd']"
   ]
  },
  {
   "cell_type": "code",
   "execution_count": 48,
   "metadata": {},
   "outputs": [],
   "source": [
    "menbers.remove('ss')"
   ]
  },
  {
   "cell_type": "code",
   "execution_count": 49,
   "metadata": {},
   "outputs": [
    {
     "data": {
      "text/plain": [
       "['dd']"
      ]
     },
     "execution_count": 49,
     "metadata": {},
     "output_type": "execute_result"
    }
   ],
   "source": [
    "menbers"
   ]
  },
  {
   "cell_type": "code",
   "execution_count": null,
   "metadata": {},
   "outputs": [],
   "source": []
  }
 ],
 "metadata": {
  "kernelspec": {
   "display_name": "Python 3",
   "language": "python",
   "name": "python3"
  },
  "language_info": {
   "codemirror_mode": {
    "name": "ipython",
    "version": 3
   },
   "file_extension": ".py",
   "mimetype": "text/x-python",
   "name": "python",
   "nbconvert_exporter": "python",
   "pygments_lexer": "ipython3",
   "version": "3.6.4"
  }
 },
 "nbformat": 4,
 "nbformat_minor": 2
}
